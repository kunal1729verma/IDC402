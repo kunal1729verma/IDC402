{
 "cells": [
  {
   "cell_type": "code",
   "execution_count": 8,
   "id": "cf40492e",
   "metadata": {},
   "outputs": [],
   "source": [
    "import numpy as np\n",
    "import scipy\n",
    "import matplotlib.pyplot as plt\n",
    "import time"
   ]
  },
  {
   "cell_type": "code",
   "execution_count": 9,
   "id": "ee263dd8",
   "metadata": {},
   "outputs": [],
   "source": [
    "alpha = 1.4\n",
    "beta = 0.3\n",
    "\n",
    "def func(x_n, y_n):\n",
    "    x_n_plus_1 = 1 - alpha*(x_n**2) + y_n\n",
    "    y_n_plus_1 = beta*x_n\n",
    "    \n",
    "    return x_n_plus_1, y_n_plus_1\n",
    "\n",
    "\n",
    "def henon_map_trajectory(x_i, y_i, steps):\n",
    "    x_t = []\n",
    "    y_t = []\n",
    "    \n",
    "    x_t.append(x_i)\n",
    "    y_t.append(y_i)\n",
    "    \n",
    "    for n in range(steps-1):\n",
    "        x, y = func(x_t[n], y_t[n])\n",
    "        x_t.append(x)\n",
    "        y_t.append(y)\n",
    "        \n",
    "    return x_t, y_t"
   ]
  },
  {
   "cell_type": "code",
   "execution_count": 10,
   "id": "27209ff7",
   "metadata": {},
   "outputs": [
    {
     "name": "stdout",
     "output_type": "stream",
     "text": [
      "-0.0 0.2\n"
     ]
    }
   ],
   "source": [
    "x_i = round(np.random.random()*1.5 - 0.75, 1) \n",
    "y_i = round(np.random.random()*0.6 - 0.3, 1) \n",
    "\n",
    "steps = 10000\n",
    "x_t, y_t = henon_map_trajectory(x_i, y_i, steps)\n",
    "\n",
    "print(x_i, y_i)"
   ]
  },
  {
   "cell_type": "code",
   "execution_count": 20,
   "id": "d35e66bb",
   "metadata": {},
   "outputs": [
    {
     "data": {
      "image/png": "[encoded data removed]",
      "text/plain": [
       "<Figure size 432x288 with 1 Axes>"
      ]
     },
     "metadata": {
      "needs_background": "light"
     },
     "output_type": "display_data"
    }
   ],
   "source": [
    "plt.plot(x_t, y_t, '.')\n",
    "plt.ylabel(r'$y_n$ ')\n",
    "plt.xlabel(r'$x_n$ ')\n",
    "plt.title('Hénon map,  ' + '$(x_0, y_0) = (0, 0.2)$')\n",
    "plt.grid(True, color= 'k', linestyle = ':')\n",
    "plt.rcParams['xtick.labelsize']=10\n",
    "plt.savefig(\"Hénon map trajectory .png\", dpi=(250), edgecolor='#f0f0f0', bbox_inches=\"tight\") "
   ]
  },
  {
   "cell_type": "code",
   "execution_count": 12,
   "id": "cf4e45e7",
   "metadata": {},
   "outputs": [],
   "source": [
    "def euclidean_distance(x_i, x_j):\n",
    "    d_sq = (x_i[0] - x_j[0])**2 + (x_i[1] - x_j[1])**2           \n",
    "    d = np.sqrt(d_sq)\n",
    "    return d"
   ]
  },
  {
   "cell_type": "code",
   "execution_count": 13,
   "id": "c83f3044",
   "metadata": {},
   "outputs": [
    {
     "name": "stdout",
     "output_type": "stream",
     "text": [
      "96.15109729766846  seconds\n"
     ]
    }
   ],
   "source": [
    "M = np.zeros((steps, steps), dtype=float)\n",
    "\n",
    "start = time.time()\n",
    "\n",
    "for i in range(steps):\n",
    "    for j in range(i+1, steps):\n",
    "        M[i][j] = euclidean_distance([x_t[i], y_t[i]], [x_t[j], y_t[j]])\n",
    "        \n",
    "end = time.time()\n",
    "print(end - start, \" seconds\")"
   ]
  },
  {
   "cell_type": "code",
   "execution_count": 14,
   "id": "114a0de7",
   "metadata": {},
   "outputs": [],
   "source": [
    "euc_dist_matrix = M"
   ]
  },
  {
   "cell_type": "markdown",
   "id": "5c995d58",
   "metadata": {},
   "source": [
    "We are interested in calculating the correlation integral approximated by the following sum - \n",
    "$$C(\\varepsilon) = \\lim_{N \\rightarrow \\infty} \\frac{2}{N(N-1)} \\sum_{i = 1}^N \\sum_{j = i + 1}^N \\Theta(\\varepsilon - || \\vec{x}(i) - \\vec{x}(j)||)$$\n",
    "\n",
    "Here we have chosen $N = 10^4$.\n",
    "\n",
    "We have already calculated the Euclidean distances between the points $\\vec{x}_i$ and $\\vec{x}_j$ and stored them in the form of a matrix $M_{ij} = || \\vec{x}(i) - \\vec{x}(j)||$. From now on, we'll call the euclidean distances as the entries $M_{ij}$ of matrix $\\textbf{M}$. \n",
    "\n",
    "The quantity that we are performing the double sum over is $\\Theta(\\epsilon - M_{ij})$.\n",
    "$$\\Theta(\\epsilon - M_{ij}) = \\begin{cases} 0, & M_{ij} > \\epsilon \\\\ 1, & 0 < M_{ij} < \\epsilon \\end{cases}$$\n",
    "\n",
    "To do this in Python, we simply compare the numpy array of matrix $\\textbf{M}$ with the value $\\epsilon$ i.e. $\\textbf{M} < \\epsilon$ returns a matrix with True and False, but it also sets $0$ distance to True as well. To counter this, we apply a logical and operator such that \n",
    "$$ 0 < \\textbf{M} \\quad \\text{AND} \\quad \\textbf{M} < \\epsilon$$\n",
    "Once we get this matrix, we can convert all True entries to $1$ and all False values to $0$, and then take a sum over the entire matrix. This essentially gives us the required sum -  \n",
    "$$S (\\epsilon) = \\sum_{i = 1}^N \\sum_{j = i + 1}^N \\Theta(\\varepsilon - || \\vec{x}(i) - \\vec{x}(j)||)$$"
   ]
  },
  {
   "cell_type": "code",
   "execution_count": 15,
   "id": "107dc49c",
   "metadata": {},
   "outputs": [],
   "source": [
    "def sum_eps(eps, euc_dist_matrix):\n",
    "    s = np.sum(np.logical_and((euc_dist_matrix < eps), (euc_dist_matrix > 0)).astype(int))\n",
    "    return s\n",
    "\n",
    "def correlation_sum(eps, euc_dist_matrix):\n",
    "    N = len(euc_dist_matrix)\n",
    "    #C = (1*sum_eps(eps, euc_dist_matrix))/(N*(N))\n",
    "    C = (2*sum_eps(eps, euc_dist_matrix))/(N*(N - 1))\n",
    "    return C"
   ]
  },
  {
   "cell_type": "markdown",
   "id": "da037c5d",
   "metadata": {},
   "source": [
    "Once we have the sum, the correlation sum looks like \n",
    "$$C(\\epsilon) = \\frac{2}{N(N-1)} S(\\epsilon)$$"
   ]
  },
  {
   "cell_type": "code",
   "execution_count": 16,
   "id": "e981618f",
   "metadata": {},
   "outputs": [
    {
     "data": {
      "text/plain": [
       "1.114111411141114e-05"
      ]
     },
     "execution_count": 16,
     "metadata": {},
     "output_type": "execute_result"
    }
   ],
   "source": [
    "correlation_sum(0.0001, euc_dist_matrix)"
   ]
  },
  {
   "cell_type": "code",
   "execution_count": 17,
   "id": "0f63e63a",
   "metadata": {},
   "outputs": [
    {
     "name": "stdout",
     "output_type": "stream",
     "text": [
      "119.6408360004425  seconds\n"
     ]
    }
   ],
   "source": [
    "eps_array = np.logspace(-9, 1.1, num=300, base=np.e)\n",
    "correlation_sum_list = []\n",
    "\n",
    "start_1 = time.time()\n",
    "\n",
    "for eps in eps_array:\n",
    "    correlation_sum_list.append(correlation_sum(eps, euc_dist_matrix))\n",
    "    \n",
    "correlation_sum_array = np.array(correlation_sum_list)\n",
    "\n",
    "end_1 = time.time()\n",
    "print(end_1 - start_1, \" seconds\")"
   ]
  },
  {
   "cell_type": "code",
   "execution_count": 19,
   "id": "072e794a",
   "metadata": {},
   "outputs": [
    {
     "name": "stdout",
     "output_type": "stream",
     "text": [
      "Correlation Dimension =  1.2114945149977057 ± 0.0010129104938386264\n"
     ]
    },
    {
     "data": {
      "image/png": "[encoded data removed]",
      "text/plain": [
       "<Figure size 432x288 with 1 Axes>"
      ]
     },
     "metadata": {
      "needs_background": "light"
     },
     "output_type": "display_data"
    }
   ],
   "source": [
    "a = 115\n",
    "b = -105\n",
    "\n",
    "#plt.plot((eps_array), (correlation_sum_array), '.-')\n",
    "plt.plot(np.log(eps_array), np.log(correlation_sum_array), '.-', color = '#4036ff')\n",
    "plt.plot(np.log(eps_array)[a:b], np.log(correlation_sum_array)[a:b], '.-', color = '#fc3078')\n",
    "\n",
    "\n",
    "import scipy.stats as st\n",
    "result = st.linregress(np.log(eps_array)[a:b], np.log(correlation_sum_array)[a:b])\n",
    "m = result.slope\n",
    "delta_m = result.stderr\n",
    "c = result.intercept\n",
    "delta_c = result.intercept_stderr\n",
    "plt.plot(np.log(eps_array), m*np.log(eps_array) + c, color = 'black')\n",
    "plt.ylabel(r'$\\ln (C(\\epsilon))$ ')\n",
    "plt.xlabel(r'$\\ln (\\epsilon)$ ')\n",
    "plt.title('Hénon map')\n",
    "plt.grid(True, color= 'k', linestyle = ':')\n",
    "plt.rcParams['xtick.labelsize']=10\n",
    "print(\"Correlation Dimension = \", m, \"±\", delta_m)\n",
    "plt.text(min(np.log(eps_array)) + 0.6*(max(np.log(eps_array))-min(np.log(eps_array))), 0.8*(max(np.log(correlation_sum_array))+min(np.log(correlation_sum_array))), r'$d_{corr}$ = ' + str(round(m,3)) + \"±\" + str(round(delta_m,3)), fontsize = 12)\n",
    "plt.text(min(np.log(eps_array)) + 0.01*(max(np.log(eps_array))-min(np.log(eps_array))), 0.1*(max(np.log(correlation_sum_array))+min(np.log(correlation_sum_array))), r'$(x_0, y_0)$ = (0.0, 0.2) ', fontsize = 12)\n",
    "plt.savefig(\"Hénon map ln(C) vs ln(eps).png\" , dpi=(250), edgecolor='#f0f0f0', bbox_inches=\"tight\") \n",
    "plt.show()"
   ]
  }
 ],
 "metadata": {
  "kernelspec": {
   "display_name": "Python 3 (ipykernel)",
   "language": "python",
   "name": "python3"
  },
  "language_info": {
   "codemirror_mode": {
    "name": "ipython",
    "version": 3
   },
   "file_extension": ".py",
   "mimetype": "text/x-python",
   "name": "python",
   "nbconvert_exporter": "python",
   "pygments_lexer": "ipython3",
   "version": "3.9.7"
  }
 },
 "nbformat": 4,
 "nbformat_minor": 5
}
